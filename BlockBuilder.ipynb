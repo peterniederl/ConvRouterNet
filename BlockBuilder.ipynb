{
 "cells": [
  {
   "cell_type": "code",
   "execution_count": null,
   "id": "5d0b2c6e",
   "metadata": {},
   "outputs": [
    {
     "name": "stderr",
     "output_type": "stream",
     "text": [
      "2025-10-22 12:13:34.495692: I metal_plugin/src/device/metal_device.cc:1154] Metal device set to: Apple M1 Pro\n",
      "2025-10-22 12:13:34.495722: I metal_plugin/src/device/metal_device.cc:296] systemMemory: 16.00 GB\n",
      "2025-10-22 12:13:34.495734: I metal_plugin/src/device/metal_device.cc:313] maxCacheSize: 5.33 GB\n",
      "2025-10-22 12:13:34.495984: I tensorflow/core/common_runtime/pluggable_device/pluggable_device_factory.cc:303] Could not identify NUMA node of platform GPU ID 0, defaulting to 0. Your kernel may not have been built with NUMA support.\n",
      "2025-10-22 12:13:34.496007: I tensorflow/core/common_runtime/pluggable_device/pluggable_device_factory.cc:269] Created TensorFlow device (/job:localhost/replica:0/task:0/device:GPU:0 with 0 MB memory) -> physical PluggableDevice (device: 0, name: METAL, pci bus id: <undefined>)\n"
     ]
    }
   ],
   "source": [
    "import tensorflow as tf\n",
    "from tensorflow import keras\n",
    "from callbacks import (\n",
    "    CosineAnnealingScheduler, TempScheduler, RouterStatsCallback, TopNScheduler, linear_topn_schedule, milestone_topn_schedule, print_router_stats\n",
    ")\n",
    "from InitConvRouterNet import (\n",
    "    get_stem, get_pooling, get_block, get_init_stem, get_init_block, get_init_pooling, get_block\n",
    ")\n",
    "from tensorflow.keras.layers import (\n",
    "    Multiply, Conv2D, Dropout, LayerNormalization, DepthwiseConv2D, Activation\n",
    ")\n",
    "from utils import AdaptiveRouter, ResBlock\n",
    "import random\n",
    "import numpy as np\n",
    "import os\n",
    "\n",
    "\n",
    "SEED = 42 \n",
    "random.seed(SEED)\n",
    "tf.random.set_seed(SEED)\n",
    "os.environ[\"TF_DETERMINISTIC_OPS\"] = \"1\"\n",
    "os.environ[\"TF_CUDNN_DETERMINISTIC\"] = \"1\"\n",
    "np.random.seed(SEED)\n",
    "\n",
    "\n",
    "# simple CIFAR-10 aug\n",
    "def cifar_preprocess(x, y):\n",
    "    x = tf.image.resize_with_crop_or_pad(x, 36, 36)\n",
    "    x = tf.image.random_crop(x, [tf.shape(x)[0], 32, 32, 3])\n",
    "    x = tf.image.random_flip_left_right(x)\n",
    "    return x, y\n",
    "\n",
    "def make_dataset(x, y, batch=128, train=True):\n",
    "    ds = tf.data.Dataset.from_tensor_slices((x, y))\n",
    "    if train:\n",
    "        ds = ds.shuffle(5000).batch(batch).map(cifar_preprocess, num_parallel_calls=tf.data.AUTOTUNE)\n",
    "    else:\n",
    "        ds = ds.batch(batch)\n",
    "    return ds.prefetch(tf.data.AUTOTUNE)\n",
    "\n",
    "def build_conv_router_net(net_layers, num_classes, input_shape=(32,32,3)):\n",
    "    inputs = keras.Input(shape=input_shape)\n",
    "    x = inputs\n",
    "\n",
    "    for layer in net_layers:\n",
    "        x = layer(x)\n",
    "\n",
    "    x = tf.keras.layers.GlobalAveragePooling2D()(x)\n",
    "    outputs = tf.keras.layers.Dense(num_classes, activation='softmax', dtype='float32')(x)  # keep fp32 logits\n",
    "    return keras.Model(inputs, outputs, name=\"adaptive_model\")\n",
    "\n",
    "\n",
    "# Usage\n",
    "(x_train, y_train), (x_test, y_test) = keras.datasets.cifar10.load_data()\n",
    "x_train = x_train.astype(\"float32\")/255.0; x_test = x_test.astype(\"float32\")/255.0\n",
    "y_train = y_train.flatten(); y_test = y_test.flatten()\n",
    "\n",
    "\n",
    "ds_train = make_dataset(x_train, y_train, batch=128, train=True)\n",
    "ds_val   = make_dataset(x_test, y_test, batch=256, train=False)\n"
   ]
  },
  {
   "cell_type": "code",
   "execution_count": null,
   "id": "ecd7ad47",
   "metadata": {},
   "outputs": [],
   "source": [
    "def build_block(in_filters, out_filters):\n",
    "    branches = [\n",
    "        Conv2D(out_filters, kernel_size=(1,1), stride=(1,1))\n",
    "    ]\n",
    "    get_block()\n",
    "\n",
    "\n",
    "def build_conv_router_net(net_layers, num_classes, input_shape=(32,32,3)):\n",
    "    inputs = keras.Input(shape=input_shape)\n",
    "    x = inputs\n",
    "\n",
    "    \n",
    "\n",
    "    x = tf.keras.layers.GlobalAveragePooling2D()(x)\n",
    "    outputs = tf.keras.layers.Dense(num_classes, activation='softmax', dtype='float32')(x)  # keep fp32 logits\n",
    "    return keras.Model(inputs, outputs, name=\"adaptive_model\")\n",
    "\n",
    "\n",
    "\n"
   ]
  }
 ],
 "metadata": {
  "kernelspec": {
   "display_name": "tf-mlp",
   "language": "python",
   "name": "python3"
  },
  "language_info": {
   "codemirror_mode": {
    "name": "ipython",
    "version": 3
   },
   "file_extension": ".py",
   "mimetype": "text/x-python",
   "name": "python",
   "nbconvert_exporter": "python",
   "pygments_lexer": "ipython3",
   "version": "3.8.13"
  }
 },
 "nbformat": 4,
 "nbformat_minor": 5
}
